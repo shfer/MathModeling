{
 "cells": [
  {
   "cell_type": "code",
   "execution_count": 4,
   "metadata": {},
   "outputs": [],
   "source": [
    "import numpy as np\n",
    "import matplotlib.pyplot as plt\n"
   ]
  },
  {
   "cell_type": "markdown",
   "metadata": {},
   "source": [
    "Here are some miscellanious examples for how to do things with Python and NumPy.  "
   ]
  },
  {
   "cell_type": "code",
   "execution_count": 1,
   "metadata": {},
   "outputs": [],
   "source": [
    "# Make a function, then call it\n",
    "def f(a, b):\n",
    "    return a+b\n"
   ]
  },
  {
   "cell_type": "code",
   "execution_count": 2,
   "metadata": {},
   "outputs": [
    {
     "data": {
      "text/plain": [
       "5"
      ]
     },
     "execution_count": 2,
     "metadata": {},
     "output_type": "execute_result"
    }
   ],
   "source": [
    "f(2,3)"
   ]
  },
  {
   "cell_type": "markdown",
   "metadata": {},
   "source": [
    "Find the 4 roots of $3x^4 + x^2 - 2x + \\pi = 0$, using NumPy `np.roots` "
   ]
  },
  {
   "cell_type": "code",
   "execution_count": 5,
   "metadata": {},
   "outputs": [
    {
     "data": {
      "text/plain": [
       "array([-0.66589197+0.92756112j, -0.66589197-0.92756112j,\n",
       "        0.66589197+0.59982325j,  0.66589197-0.59982325j])"
      ]
     },
     "execution_count": 5,
     "metadata": {},
     "output_type": "execute_result"
    }
   ],
   "source": [
    "coef = [3, 0, 1, -2, np.pi]\n",
    "xr = np.roots(coef)\n",
    "xr"
   ]
  },
  {
   "cell_type": "code",
   "execution_count": 10,
   "metadata": {},
   "outputs": [],
   "source": [
    "# separate imaginary and real parts\n",
    "xri = xr.imag\n",
    "xrr = xr.real"
   ]
  },
  {
   "cell_type": "code",
   "execution_count": 11,
   "metadata": {},
   "outputs": [
    {
     "data": {
      "text/plain": [
       "array([-0.66589197, -0.66589197,  0.66589197,  0.66589197])"
      ]
     },
     "execution_count": 11,
     "metadata": {},
     "output_type": "execute_result"
    }
   ],
   "source": [
    "xrr"
   ]
  },
  {
   "cell_type": "code",
   "execution_count": 12,
   "metadata": {},
   "outputs": [
    {
     "data": {
      "text/plain": [
       "array([ 0.92756112, -0.92756112,  0.59982325, -0.59982325])"
      ]
     },
     "execution_count": 12,
     "metadata": {},
     "output_type": "execute_result"
    }
   ],
   "source": [
    "xri"
   ]
  },
  {
   "cell_type": "markdown",
   "metadata": {},
   "source": [
    "Get roots for a range of coefficient values, and sort the values\n",
    "$3x^4 + x^2 + Cx + \\pi = 0$ where C varies over 10 values uniformly spaced from -3 to 5 \n"
   ]
  },
  {
   "cell_type": "code",
   "execution_count": 29,
   "metadata": {},
   "outputs": [
    {
     "name": "stderr",
     "output_type": "stream",
     "text": [
      "/opt/conda/envs/mathmod/lib/python3.7/site-packages/ipykernel_launcher.py:10: ComplexWarning: Casting complex values to real discards the imaginary part\n",
      "  # Remove the CWD from sys.path while we load stuff.\n"
     ]
    },
    {
     "data": {
      "text/plain": [
       "array([[-0.67858577, -0.667118  , -0.65888903, -0.65480491, -0.6553988 ,\n",
       "        -0.66058931, -0.66972008, -0.68184356, -0.69601872, -0.71147326],\n",
       "       [-0.67858577, -0.667118  , -0.65888903, -0.65480491, -0.6553988 ,\n",
       "        -0.66058931, -0.66972008, -0.68184356, -0.69601872, -0.71147326],\n",
       "       [ 0.67858577,  0.667118  ,  0.65888903,  0.65480491,  0.6553988 ,\n",
       "         0.66058931,  0.66972008,  0.68184356,  0.69601872,  0.71147326],\n",
       "       [ 0.67858577,  0.667118  ,  0.65888903,  0.65480491,  0.6553988 ,\n",
       "         0.66058931,  0.66972008,  0.68184356,  0.69601872,  0.71147326]])"
      ]
     },
     "execution_count": 29,
     "metadata": {},
     "output_type": "execute_result"
    }
   ],
   "source": [
    "\n",
    "C = np.linspace(-3,5,10)  \n",
    "xr = np.zeros((4,len(C)))\n",
    "\n",
    "for j in range(len(cvec)):\n",
    "    # print(C[j])  Uncomment if you want to see the values in C\n",
    "    coef = [3, 0, 1, C[j], np.pi]\n",
    "    xr[:,j] = np.sort(np.roots(coef))\n",
    "    \n",
    "xr  \n"
   ]
  },
  {
   "cell_type": "code",
   "execution_count": 30,
   "metadata": {},
   "outputs": [
    {
     "data": {
      "text/plain": [
       "[(-0.678585770809632-0.9977768191767922j),\n",
       " (-0.6671180040357163-0.9356406646555978j),\n",
       " (-0.6588890320223793-0.8691275021613328j),\n",
       " (-0.6548049110716031-0.7986598739844666j),\n",
       " (-0.6553987953915907-0.7249661283779659j),\n",
       " (-0.6605893091270616-0.6487127660639126j),\n",
       " (-0.6697200757576889-0.5699603107456115j),\n",
       " (-0.6818435630420485-0.4876113315112062j),\n",
       " (-0.6960187247548475-0.39861163769812746j),\n",
       " (-0.7114732644315895-0.29533307622840893j)]"
      ]
     },
     "execution_count": 30,
     "metadata": {},
     "output_type": "execute_result"
    }
   ],
   "source": [
    "# Note that in the above, there is no imaginary part ... and there's an error to confirm.\n",
    "# This is something I am not sure of in Python/NumPy:  how to initialize a complex array\n",
    "# Instead, use a list.  Lists are not necessarily numerical, but they can be.  The advantages are:  \n",
    "# (1) I can initialize it without knowing the final length, and \n",
    "# (2) it will take on whatever data type is passed to it.  Here, though, we know the size, so initialize \n",
    "# lists for each root to 0\n",
    "\n",
    "xr1 = [0]*len(C) \n",
    "xr2 = [0]*len(C) \n",
    "xr3 = [0]*len(C) \n",
    "xr4 = [0]*len(C) \n",
    "\n",
    "for j in range(len(cvec)):\n",
    "    coef = [3, 0, 1, C[j], np.pi]\n",
    "    xr1[j], xr2[j], xr3[j], xr4[j] = np.sort(np.roots(coef))\n",
    "\n",
    "xr1"
   ]
  },
  {
   "cell_type": "code",
   "execution_count": 33,
   "metadata": {},
   "outputs": [
    {
     "data": {
      "text/plain": [
       "array([-0.67858577-0.99777682j, -0.667118  -0.93564066j,\n",
       "       -0.65888903-0.8691275j , -0.65480491-0.79865987j,\n",
       "       -0.6553988 -0.72496613j, -0.66058931-0.64871277j,\n",
       "       -0.66972008-0.56996031j, -0.68184356-0.48761133j,\n",
       "       -0.69601872-0.39861164j, -0.71147326-0.29533308j])"
      ]
     },
     "execution_count": 33,
     "metadata": {},
     "output_type": "execute_result"
    }
   ],
   "source": [
    "# To convert to a standard numerical array:\n",
    "\n",
    "xr1 = np.asarray(xr1)  \n",
    "xr2 = np.asarray(xr2)  \n",
    "xr3 = np.asarray(xr3)  \n",
    "xr4 = np.asarray(xr4)  \n",
    "\n",
    "xr1"
   ]
  },
  {
   "cell_type": "code",
   "execution_count": 42,
   "metadata": {},
   "outputs": [
    {
     "data": {
      "text/plain": [
       "[25, 30, 31, 38, 56, 59, 78]"
      ]
     },
     "execution_count": 42,
     "metadata": {},
     "output_type": "execute_result"
    }
   ],
   "source": [
    "# Here we take advantage of the fact that lists don't need to be initialized with a length:\n",
    "foo = []\n",
    "for j in range(0,100):\n",
    "    if np.random.random_sample()<.1:\n",
    "        foo = foo + [j]    # Here + means append the value of j to the list foo\n",
    "        \n",
    "foo"
   ]
  },
  {
   "cell_type": "code",
   "execution_count": 55,
   "metadata": {},
   "outputs": [
    {
     "data": {
      "text/plain": [
       "[<matplotlib.lines.Line2D at 0x7fc641a01990>]"
      ]
     },
     "execution_count": 55,
     "metadata": {},
     "output_type": "execute_result"
    },
    {
     "data": {
      "image/png": "[encoded data removed]",
      "text/plain": [
       "<Figure size 432x288 with 1 Axes>"
      ]
     },
     "metadata": {
      "needs_background": "light"
     },
     "output_type": "display_data"
    }
   ],
   "source": [
    "# to make 100 random numbers from a Gauassian sample:\n",
    "foo = np.random.randn(100,1)\n",
    "plt.plot(foo,'.')"
   ]
  },
  {
   "cell_type": "code",
   "execution_count": 35,
   "metadata": {},
   "outputs": [
    {
     "data": {
      "text/plain": [
       "array([ 0. ,  0.5,  1. ,  1.5,  2. ,  2.5,  3. ,  3.5,  4. ,  4.5,  5. ,\n",
       "        5.5,  6. ,  6.5,  7. ,  7.5,  8. ,  8.5,  9. ,  9.5, 10. ])"
      ]
     },
     "execution_count": 35,
     "metadata": {},
     "output_type": "execute_result"
    }
   ],
   "source": [
    "# Some examples for getting parts of an array:  \"slicing\"\n",
    "y = np.linspace(0,10,21)\n",
    "y"
   ]
  },
  {
   "cell_type": "code",
   "execution_count": 37,
   "metadata": {},
   "outputs": [
    {
     "data": {
      "text/plain": [
       "array([ 0.5,  1. ,  1.5,  2. ,  2.5,  3. ,  3.5,  4. ,  4.5,  5. ,  5.5,\n",
       "        6. ,  6.5,  7. ,  7.5,  8. ,  8.5,  9. ,  9.5, 10. ])"
      ]
     },
     "execution_count": 37,
     "metadata": {},
     "output_type": "execute_result"
    }
   ],
   "source": [
    "y[1:]  # skip the first value"
   ]
  },
  {
   "cell_type": "code",
   "execution_count": 38,
   "metadata": {},
   "outputs": [
    {
     "data": {
      "text/plain": [
       "array([0. , 0.5, 1. , 1.5, 2. , 2.5, 3. , 3.5, 4. , 4.5, 5. , 5.5, 6. ,\n",
       "       6.5, 7. , 7.5, 8. , 8.5, 9. , 9.5])"
      ]
     },
     "execution_count": 38,
     "metadata": {},
     "output_type": "execute_result"
    }
   ],
   "source": [
    "y[0:-1]  # skip the last value"
   ]
  },
  {
   "cell_type": "markdown",
   "metadata": {},
   "source": [
    "So $dy_{n} = y_{n+1} - y_{n}$ is"
   ]
  },
  {
   "cell_type": "code",
   "execution_count": 39,
   "metadata": {},
   "outputs": [
    {
     "data": {
      "text/plain": [
       "array([0.5, 0.5, 0.5, 0.5, 0.5, 0.5, 0.5, 0.5, 0.5, 0.5, 0.5, 0.5, 0.5,\n",
       "       0.5, 0.5, 0.5, 0.5, 0.5, 0.5, 0.5])"
      ]
     },
     "execution_count": 39,
     "metadata": {},
     "output_type": "execute_result"
    }
   ],
   "source": [
    "dy = y[1:] - y[0:-1]\n",
    "dy"
   ]
  },
  {
   "cell_type": "code",
   "execution_count": 41,
   "metadata": {},
   "outputs": [
    {
     "data": {
      "text/plain": [
       "array([0., 1., 2., 3., 4., 5., 6., 7., 8., 9.])"
      ]
     },
     "execution_count": 41,
     "metadata": {},
     "output_type": "execute_result"
    }
   ],
   "source": [
    "y[0:-1:2]  # take every 2nd value, and leave off the last value"
   ]
  },
  {
   "cell_type": "markdown",
   "metadata": {},
   "source": [
    "See more examples here:  https://docs.scipy.org/doc/numpy/reference/arrays.indexing.html"
   ]
  },
  {
   "cell_type": "markdown",
   "metadata": {},
   "source": [
    "The norm of a vector:  $$|\\mathbf{y}| = \\sqrt{\\sum_{j=0}^{N} y_j^2}$$"
   ]
  },
  {
   "cell_type": "code",
   "execution_count": 45,
   "metadata": {},
   "outputs": [
    {
     "data": {
      "text/plain": [
       "26.78619047195775"
      ]
     },
     "execution_count": 45,
     "metadata": {},
     "output_type": "execute_result"
    }
   ],
   "source": [
    "np.linalg.norm(y)"
   ]
  },
  {
   "cell_type": "code",
   "execution_count": 46,
   "metadata": {},
   "outputs": [
    {
     "data": {
      "text/plain": [
       "2.23606797749979"
      ]
     },
     "execution_count": 46,
     "metadata": {},
     "output_type": "execute_result"
    }
   ],
   "source": [
    "np.linalg.norm(dy)  # Norm of dy (defined above)"
   ]
  },
  {
   "cell_type": "markdown",
   "metadata": {},
   "source": [
    "To find a best-fit line, go back and look at one of the first codes uploaded, when we found slopes for power laws.  \n",
    ".. and then read about the Numpy function `np.polyfit` :  https://docs.scipy.org/doc/numpy/reference/generated/numpy.polyfit.html "
   ]
  },
  {
   "cell_type": "code",
   "execution_count": null,
   "metadata": {},
   "outputs": [],
   "source": []
  }
 ],
 "metadata": {
  "kernelspec": {
   "display_name": "Python [conda env:mathmod]",
   "language": "python",
   "name": "conda-env-mathmod-py"
  },
  "language_info": {
   "codemirror_mode": {
    "name": "ipython",
    "version": 3
   },
   "file_extension": ".py",
   "mimetype": "text/x-python",
   "name": "python",
   "nbconvert_exporter": "python",
   "pygments_lexer": "ipython3",
   "version": "3.7.6"
  }
 },
 "nbformat": 4,
 "nbformat_minor": 4
}
