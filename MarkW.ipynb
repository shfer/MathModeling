{
 "cells": [
  {
   "cell_type": "markdown",
   "metadata": {},
   "source": [
    "# COVID-19 Data Analyzed Through the Lens of the SIR-model"
   ]
  },
  {
   "cell_type": "markdown",
   "metadata": {},
   "source": [
    "Consider the SIR model:\n",
    "$$\\begin{align*}\n",
    "\\frac{dS}{dt}&=-aS(\\frac{I}{N})\\\\\n",
    "\\frac{dI}{dt}&=aS(\\frac{I}{N})-bI\\\\\n",
    "\\frac{dR}{dt}&=bI\n",
    "\\end{align*}\n",
    "$$\n",
    "Our goal for this project is to analyze COVID-19 data from 15 different regions, fit a curve through parameter estimation, and interpret our results. \n",
    "\n",
    "The regions we will be analyzing will include 15 US states. For a more complete picture under the SIR model, I will likely choose regions that are labeled with a data-quality grade of B or higher. These are the states that have the most complete data reporting, and thus the model we create will likely be more reliable.\n",
    "\n",
    "The primary goal of this project is to estimate the parameters of the SIR-model using some parameter estimation method (in our case, we will be using the Gauss-Newton Algorithm) based on the data we are given. From here, we will use standard methods to solve the system above. "
   ]
  },
  {
   "cell_type": "code",
   "execution_count": 1,
   "metadata": {},
   "outputs": [],
   "source": [
    "import pandas as pd\n",
    "import numpy as np\n",
    "from matplotlib import pyplot as plt\n",
    "import math as m\n",
    "from scipy.integrate import odeint\n",
    "import scipy.optimize"
   ]
  },
  {
   "cell_type": "code",
   "execution_count": 2,
   "metadata": {},
   "outputs": [],
   "source": [
    "# The commands below extract just the cummulative number of positive cases\n",
    "\n",
    "url = 'https://covidtracking.com/api/v1/states/daily.csv'   \n",
    "\n",
    "states = pd.read_csv(url,\n",
    "                     usecols=['date', 'state', 'positive'], # grab only these columns from CSV\n",
    "                     parse_dates=['date'],                  # .. confusing \n",
    "                     index_col=['state', 'date'],           # use these as column labels\n",
    "                     squeeze=True).sort_index()             # sort the data \n",
    "\n",
    "states2 = pd.read_csv(url,\n",
    "                     usecols=['date', 'state', 'recovered', 'death'], # grab only these columns from CSV\n",
    "                     parse_dates=['date'],                  # .. confusing \n",
    "                     index_col=['state', 'date'],           # use these as column labels\n",
    "                     squeeze=True).sort_index()             # sort the data"
   ]
  },
  {
   "cell_type": "markdown",
   "metadata": {},
   "source": [
    "A natural start to our project is to first find the data we'd actually like to analyze. As a example, we will start with where the pandemic started: Hubei. From there, we will utilize the same methods to obtain out results of the 14 other regions."
   ]
  },
  {
   "cell_type": "markdown",
   "metadata": {},
   "source": [
    "### Hubei (Wuhan)"
   ]
  },
  {
   "cell_type": "code",
   "execution_count": 3,
   "metadata": {},
   "outputs": [],
   "source": [
    "url2 = \"https://raw.githubusercontent.com/CSSEGISandData/COVID-19/master/csse_covid_19_data/csse_covid_19_time_series/time_series_covid19_confirmed_global.csv\"\n",
    "url3 = \"https://raw.githubusercontent.com/CSSEGISandData/COVID-19/master/csse_covid_19_data/csse_covid_19_time_series/time_series_covid19_recovered_global.csv\"\n",
    "url4 = \"https://raw.githubusercontent.com/CSSEGISandData/COVID-19/master/csse_covid_19_data/csse_covid_19_time_series/time_series_covid19_deaths_global.csv\"\n",
    "# url2: cases, url3: recovered, url4: dead\n",
    "arr = [0];\n",
    "for i in range(4, 118):\n",
    "    arr.append(i);\n",
    "case_file = pd.read_csv(url2, usecols = arr, squeeze = True).sort_index();\n",
    "recov_file = pd.read_csv(url3, usecols = arr, squeeze = True).sort_index(); #53\n",
    "dead_file = pd.read_csv(url4, usecols = arr, squeeze = True).sort_index(); #62\n",
    "\n",
    "arr = arr[1:];\n",
    "case_file = pd.read_csv(url2, usecols = arr, squeeze = True).sort_index();\n",
    "recov_file = pd.read_csv(url3, usecols = arr, squeeze = True).sort_index();\n",
    "dead_file = pd.read_csv(url4, usecols = arr, squeeze = True).sort_index();\n",
    "\n",
    "new_cases = np.array(case_file.loc[62].diff().fillna(0));\n",
    "new_recov = np.array(recov_file.loc[53].diff().fillna(0));\n",
    "new_dead = np.array(dead_file.loc[62].diff().fillna(0));\n",
    "\n",
    "all_dead = np.array(dead_file.loc[62].fillna(0));\n",
    "all_recov = np.array(recov_file.loc[62].fillna(0));"
   ]
  },
  {
   "cell_type": "code",
   "execution_count": 5,
   "metadata": {},
   "outputs": [],
   "source": [
    "N = (58.5)*(10**6); #we will take the total population of the province as being N and assume that it is constant\n",
    "s_t = [];\n",
    "temp = N;\n",
    "for i in range(new_cases.size):\n",
    "    s_t.append(temp-new_cases[i]);\n",
    "    temp-=new_cases[i];\n",
    "    \n",
    "i_t = [];\n",
    "temp2 = 0;\n",
    "for i in range(new_cases.size):\n",
    "    temp2+=new_cases[i]-(new_recov[i]+new_dead[i]);\n",
    "    i_t.append(temp2);\n",
    "\n",
    "r_t = [];\n",
    "for i in range(new_cases.size):\n",
    "    r_t.append(all_recov[i]+all_dead[i]);\n",
    "\n",
    "for i in range(len(s_t)):\n",
    "    if i_t[i] != 0:\n",
    "        I0 = i_t[i];\n",
    "        s_t = s_t[i:];\n",
    "        i_t = i_t[i:];\n",
    "        r_t = r_t[i:];\n",
    "        break;\n",
    "        \n",
    "S0 = N - I0;\n",
    "R0 = N-I0-S0;\n",
    "s_t = np.array(s_t);\n",
    "i_t = np.array(i_t);\n",
    "r_t = np.array(r_t);\n",
    "\n",
    "t = np.linspace(0, len(s_t), len(s_t));"
   ]
  },
  {
   "cell_type": "markdown",
   "metadata": {},
   "source": [
    "Let us now apply a parameter estimation method of our choice. A traditional method would be to use the Gauss-Newton Algorithm (GNA) discussed in class, and the alogrithm used can be found in the SIRmodelfit notebook. However, since Python has libraries that offer the desired functions for our purposes (albeit using differen methods), I will opt to use those. I will be using the scipy.optimize library and the curve_fit() function to extract the parameters. \n",
    "\n",
    "The function in question uses what is known as the __Levenberg-Marquardt alogrithm (LMA)__, which is a more robust algroithm than GNA in that a solution can still be found even if the \"guess\" parameters are far from the minimum. \n",
    "\n",
    "An LMA-update looks rather similar to that the GNA normal equation except there is a damping parameter, $\\lambda$.\n",
    "$$\n",
    "    \\begin{align*}\n",
    "        (J^TJ+\\lambda I)\\Delta \\theta = J^T[\\Delta y]\n",
    "    \\end{align*}\n",
    "$$\n",
    "Notice that if $\\lambda$ is small, the problem reduces to the GNA normal equation."
   ]
  },
  {
   "cell_type": "code",
   "execution_count": 6,
   "metadata": {},
   "outputs": [],
   "source": [
    "def f(X, t, a, b):\n",
    "    S, I, R = X;\n",
    "    return -(a/N)*I*S, ((a/N)*I*S)-(b*I), b*I;\n",
    "\n",
    "x0 = [S0, I0, R0];\n",
    "\n",
    "def SIR_sol(a, X0, b):\n",
    "    sol = odeint(f, X0, t, args=(a, b));\n",
    "    return sol;"
   ]
  },
  {
   "cell_type": "code",
   "execution_count": 9,
   "metadata": {},
   "outputs": [],
   "source": [
    "def model(t, a, b):\n",
    "    y_t = SIR_sol(a, np.array(x0), b);\n",
    "    return y_t[:,1]; \n",
    "\n",
    "#params = scipy.optimize.curve_fit(model, t, i_t);\n",
    "params = scipy.optimize.curve_fit(model, t, i_t, bounds=([0,0],[10,10]))"
   ]
  },
  {
   "cell_type": "code",
   "execution_count": 10,
   "metadata": {},
   "outputs": [
    {
     "data": {
      "text/plain": [
       "array([6.07880734, 5.80367042])"
      ]
     },
     "execution_count": 10,
     "metadata": {},
     "output_type": "execute_result"
    }
   ],
   "source": [
    "params[0]"
   ]
  },
  {
   "cell_type": "code",
   "execution_count": 18,
   "metadata": {},
   "outputs": [
    {
     "data": {
      "text/plain": [
       "[58499905.0, 95.0, 0.0]"
      ]
     },
     "execution_count": 18,
     "metadata": {},
     "output_type": "execute_result"
    }
   ],
   "source": [
    "x0"
   ]
  },
  {
   "cell_type": "code",
   "execution_count": 11,
   "metadata": {},
   "outputs": [
    {
     "data": {
      "image/png": "[encoded data removed]",
      "text/plain": [
       "<Figure size 432x288 with 1 Axes>"
      ]
     },
     "metadata": {
      "needs_background": "light"
     },
     "output_type": "display_data"
    }
   ],
   "source": [
    "real_sol = SIR_sol(params[0][0], np.array(x0), params[0][1]);\n",
    "plt.scatter(t, i_t);\n",
    "plt.plot(t, real_sol[:,1], \"r\");"
   ]
  },
  {
   "cell_type": "code",
   "execution_count": null,
   "metadata": {},
   "outputs": [],
   "source": []
  }
 ],
 "metadata": {
  "kernelspec": {
   "display_name": "Python [conda env:mathmod]",
   "language": "python",
   "name": "conda-env-mathmod-py"
  },
  "language_info": {
   "codemirror_mode": {
    "name": "ipython",
    "version": 3
   },
   "file_extension": ".py",
   "mimetype": "text/x-python",
   "name": "python",
   "nbconvert_exporter": "python",
   "pygments_lexer": "ipython3",
   "version": "3.7.6"
  }
 },
 "nbformat": 4,
 "nbformat_minor": 4
}
