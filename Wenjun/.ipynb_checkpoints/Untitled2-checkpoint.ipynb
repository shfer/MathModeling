{
 "cells": [
  {
   "cell_type": "code",
   "execution_count": 21,
   "metadata": {},
   "outputs": [],
   "source": [
    "import numpy as np\n",
    "from scipy.integrate import odeint\n",
    "import matplotlib.pyplot as plt\n",
    "import csv"
   ]
  },
  {
   "cell_type": "markdown",
   "metadata": {},
   "source": [
    "The following cell reads the csv files under the same directory. It stores the number of confirmed cases, deaths, and recovered cases in three 2D arrays. \n",
    "\n",
    "(One can also try pandas if preferred.)"
   ]
  },
  {
   "cell_type": "code",
   "execution_count": 22,
   "metadata": {},
   "outputs": [],
   "source": [
    "confirmed = [] \n",
    "death = []\n",
    "recovered = []\n",
    "# reading csv file \n",
    "with open(\"confirmed_global.csv\", 'r') as csvfile: \n",
    "    csvreader = csv.reader(csvfile) \n",
    "    for row in csvreader: \n",
    "        confirmed.append(row)\n",
    "with open(\"deaths_global.csv\",'r') as csvfile:\n",
    "    csvreader = csv.reader(csvfile) \n",
    "    for row in csvreader: \n",
    "        death.append(row)\n",
    "with open(\"recovered_global.csv\",'r') as csvfile:\n",
    "    csvreader = csv.reader(csvfile) \n",
    "    for row in csvreader: \n",
    "        recovered.append(row)\n",
    "        \n",
    "    \n",
    "confirmed = np.asarray(confirmed)\n",
    "death = np.asarray(death)\n",
    "recovered = np.asarray(recovered)"
   ]
  },
  {
   "cell_type": "markdown",
   "metadata": {},
   "source": [
    "The next cell generate a time series for a given province/state, or country/region. \n",
    "\n",
    "In the CSV files, the names of provinces/states are stored in the 0-th column, so one can find the row with 0-th element as the name of the state/province, e.g. 'Hubei' below. \n",
    "\n",
    "The names of countries/regions are stored in the 1-st column. For example, to get the time series of Italy, one can replace the lines with idx by:\n",
    "\n",
    "idx = np.where(arrayname[:,1] == 'Italy').\n",
    "\n",
    "The time series start from the 4-th column. \n",
    "\n",
    "\n"
   ]
  },
  {
   "cell_type": "code",
   "execution_count": null,
   "metadata": {},
   "outputs": [],
   "source": [
    "idx = np.where(confirmed[:,0] == 'Hubei') #\n",
    "idx = idx[0]\n",
    "confirmed = confirmed[idx, 4:np.shape(confirmed)[1]  ]\n",
    "\n",
    "idx = np.where(death[:,0] == 'Hubei') #\n",
    "idx = idx[0]\n",
    "death = death[idx, 4:np.shape(death)[1]  ]\n",
    "\n",
    "idx = np.where(recovered[:,0] == 'Hubei') #\n",
    "idx = idx[0]\n",
    "recovered = recovered[idx, 4:np.shape(recovered)[1]  ]\n",
    "\n",
    "confirmed = confirmed[0].astype(np.float)\n",
    "death = death[0].astype(np.float)\n",
    "recovered = recovered[0].astype(np.float)"
   ]
  },
  {
   "cell_type": "markdown",
   "metadata": {},
   "source": [
    "Some time series might begin with zero, which indicates there was no confirmed case on the first day of this record. After we find the date that the first case appears, we take it as the initial condition of I, and try to use SIR model to fit the time series after that. \n",
    "\n",
    "We can not keep the zeros at the beginning of the time series. In the SIR model, the derivative of the infectious population is given by:\n",
    "$$\n",
    "\\frac{dI}{dt} = \\frac{a}{N}SI - bI = ( \\frac{a}{N} S - b) I.\n",
    "$$\n",
    "If $I(0)=0$, then the derivative will remain zero all the time, and then $I(t) \\equiv 0 $ for any $t$.\n"
   ]
  },
  {
   "cell_type": "code",
   "execution_count": 23,
   "metadata": {},
   "outputs": [],
   "source": [
    "# Look for the first day that confirmed cases appeared, and take it as the initial condition:\n",
    "start = np.where(confirmed > 0)\n",
    "# Current length of the time series:\n",
    "T = np.shape(confirmed)[0]\n",
    "# Remove the data before the first case in the time series, so it will have a nonzero initial condition:\n",
    "confirmed = confirmed[start[0][0]:T]\n",
    "death = death[ start[0][0]:T ]\n",
    "recovered = recovered[ start[0][0]:T ]\n",
    "# Current length of the time series:\n",
    "T = T - start[0][0]\n",
    "\n",
    "# The infectious population is then : #I = confirmed cases - (#deaths + #recovered)\n",
    "I = confirmed - death - recovered\n",
    "t = np.arange(T)\n",
    "\n",
    "N = 58500000 # population of Hubei on wikipedia..."
   ]
  },
  {
   "cell_type": "code",
   "execution_count": 19,
   "metadata": {},
   "outputs": [
    {
     "data": {
      "image/png": "[encoded data removed]",
      "text/plain": [
       "<Figure size 432x288 with 1 Axes>"
      ]
     },
     "metadata": {
      "needs_background": "light"
     },
     "output_type": "display_data"
    }
   ],
   "source": [
    "plt.plot(t,I,'x')\n",
    "#plt.plot(t,death,'.',label = 'deaths')\n",
    "#plt.plot(t,confirmed,'*',label = 'confirmed')\n",
    "#plt.plot(t,recovered,'+',label = 'recovered')\n",
    "plt.xlabel('days since the first case confirmed')\n",
    "plt.ylabel('Infectious population')\n",
    "plt.show()"
   ]
  },
  {
   "cell_type": "code",
   "execution_count": null,
   "metadata": {},
   "outputs": [],
   "source": []
  },
  {
   "cell_type": "code",
   "execution_count": null,
   "metadata": {},
   "outputs": [],
   "source": []
  }
 ],
 "metadata": {
  "kernelspec": {
   "display_name": "Python [conda env:mathmod]",
   "language": "python",
   "name": "conda-env-mathmod-py"
  },
  "language_info": {
   "codemirror_mode": {
    "name": "ipython",
    "version": 3
   },
   "file_extension": ".py",
   "mimetype": "text/x-python",
   "name": "python",
   "nbconvert_exporter": "python",
   "pygments_lexer": "ipython3",
   "version": "3.7.6"
  }
 },
 "nbformat": 4,
 "nbformat_minor": 4
}
