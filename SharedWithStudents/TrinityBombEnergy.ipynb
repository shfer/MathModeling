{
 "cells": [
  {
   "cell_type": "markdown",
   "metadata": {},
   "source": [
    "Here we estimte the energy of the first atomic bomb, following Taylor (1950): https://www3.nd.edu/~powers/ame.90931/taylor.blast.wave.II.pdf\n",
    "\n",
    "See also the first paper in this series, https://www3.nd.edu/~powers/ame.90931/taylor.blast.wave.I.pdf.\n"
   ]
  },
  {
   "cell_type": "code",
   "execution_count": 1,
   "metadata": {},
   "outputs": [],
   "source": [
    "import numpy as np\n",
    "import matplotlib.pyplot as plt"
   ]
  },
  {
   "cell_type": "markdown",
   "metadata": {},
   "source": [
    "First, we enter the bomb blast radius (r, in meters) and time (t, in seconds) from Taylor (1950, Table 1), then plot it on a log-log scale:"
   ]
  },
  {
   "cell_type": "code",
   "execution_count": 20,
   "metadata": {},
   "outputs": [
    {
     "data": {
      "image/png": "[encoded data removed]",
      "text/plain": [
       "<Figure size 432x288 with 1 Axes>"
      ]
     },
     "metadata": {
      "needs_background": "light"
     },
     "output_type": "display_data"
    }
   ],
   "source": [
    "t = .001*np.array([.1, .24, .38, .52, .66, .8, .94, 1.08, 1.22, 1.36, 1.50, 1.65, 1.79, 1.93, 3.26, 3.53, 3.8, 4.07, 4.34, 4.61, 15, 25, 34, 53, 62]);\n",
    "r = np.array([11.1, 19.9, 25.4, 28.8, 31.9, 34.2, 36.3, 38.9, 41, 42.8, 44.4, 46, 46.9, 48.7, 59, 61.1, 62.9, 64.3, 65.6, 67.3, 106.5, 130, 145, 175, 185]);  \n",
    "\n",
    "plt.loglog(t,r,'+')\n",
    "plt.xlabel('t [s]')\n",
    "plt.ylabel('r [m]')\n",
    "plt.title('Trinity bomb blast radius vs. time')\n",
    "plt.grid()\n",
    "plt.show()"
   ]
  },
  {
   "cell_type": "markdown",
   "metadata": {},
   "source": [
    "Note that it nearly a straight line, so let's try to fit a line to the data of the form \n",
    "\\begin{equation}\n",
    "\\log(r_i) = y_0 + s \\log(t_i) \n",
    "\\end{equation}\n",
    "where the offset $y_0$ and slope $s$ are found by fitting.\n",
    "\n",
    "Using the method of Least Squares (review your linear algebra; see, for example, Lay ch. 6), we find the optimal solution to $A\\mathbf{x}=\\mathbf{b}$ with $\\mathbf{x}^T = [y_0,  s]$, \n",
    "\\begin{equation}\n",
    " A^T = \\begin{bmatrix} 1 & 1 & \\cdots & 1 & 1 \\\\\\log(t_1) & \\log(t_2) & \\cdots & \\log(t_N) \\end{bmatrix}^T\n",
    "\\end{equation}\n",
    "and\n",
    "\\begin{equation}\n",
    "\\mathbf{b}^T = [\\log(r_1), \\log(r_2), \\cdots , \\log(r_N)]\n",
    "\\end{equation}\n",
    "The least squares solution is\n",
    "\\begin{equation}\n",
    "\\mathbf{x} = \\begin{bmatrix}y_0 \\\\ s\\end{bmatrix} = (A^TA)^{-1}(A^T\\mathbf{b})\n",
    "\\end{equation}"
   ]
  },
  {
   "cell_type": "code",
   "execution_count": 26,
   "metadata": {},
   "outputs": [
    {
     "data": {
      "text/plain": [
       "(2.776736214021895, 0.40582262510045375)"
      ]
     },
     "execution_count": 26,
     "metadata": {},
     "output_type": "execute_result"
    }
   ],
   "source": [
    "A = np.vstack((np.ones(len(t)),np.log10(t))).T\n",
    "#A\n",
    "y0,s = np.linalg.inv(A.T.dot(A)).dot(A.T.dot(np.log10(r)))\n",
    "y0,s"
   ]
  },
  {
   "cell_type": "code",
   "execution_count": 33,
   "metadata": {},
   "outputs": [
    {
     "data": {
      "image/png": "[encoded data removed]",
      "text/plain": [
       "<Figure size 432x288 with 1 Axes>"
      ]
     },
     "metadata": {
      "needs_background": "light"
     },
     "output_type": "display_data"
    }
   ],
   "source": [
    "plt.loglog(t,r,'+')\n",
    "plt.xlabel('t [s]')\n",
    "plt.ylabel('r [m]')\n",
    "plt.title('Trinity bomb blast radius vs. time')\n",
    "plt.grid()\n",
    "plt.loglog(t,10**(y0)*t**(s))\n",
    "plt.show()\n"
   ]
  },
  {
   "cell_type": "markdown",
   "metadata": {},
   "source": [
    "Notice first that $s = 0.406$ is very close to $s = 0.4 = 2/5$.  The theory proposed by Taylor is $r = C(Et^2/\\rho)^{1/5}$, where $C \\approx 1$ (see his eq. 8, and the values for his K in Fig. 3).  So neglecting $C$,\n",
    "\\begin{equation}\n",
    "\\log(r) = (1/5)\\log(E/\\rho) + (2/5)\\log(t)\n",
    "\\end{equation}\n",
    "\n",
    "suggesting $s=2/5$ (as found), and $y_0 = (1/5)\\log(E/\\rho)$, or $E = \\rho e^{5 y_0}$. Using $y_0$ found numerically above, and $\\rho = 1.25$ kg/m$^3$, this gives:"
   ]
  },
  {
   "cell_type": "code",
   "execution_count": 32,
   "metadata": {},
   "outputs": [
    {
     "data": {
      "text/plain": [
       "95629323414588.0"
      ]
     },
     "execution_count": 32,
     "metadata": {},
     "output_type": "execute_result"
    }
   ],
   "source": [
    "E = 1.25*10**(5*y0)\n",
    "E"
   ]
  },
  {
   "cell_type": "markdown",
   "metadata": {},
   "source": [
    "So the answer is $E\\approx 9.56 \\times 10^{13}$ J, or converting to 'tons of TNT' (dividing by $4.184\\times 10^{9}$), about 23,900 tons of TNT.  This is close to the values in the bottom row of Table 3 in Taylor (1950)."
   ]
  },
  {
   "cell_type": "code",
   "execution_count": null,
   "metadata": {},
   "outputs": [],
   "source": []
  }
 ],
 "metadata": {
  "kernelspec": {
   "display_name": "Python 3",
   "language": "python",
   "name": "python3"
  },
  "language_info": {
   "codemirror_mode": {
    "name": "ipython",
    "version": 3
   },
   "file_extension": ".py",
   "mimetype": "text/x-python",
   "name": "python",
   "nbconvert_exporter": "python",
   "pygments_lexer": "ipython3",
   "version": "3.7.6"
  }
 },
 "nbformat": 4,
 "nbformat_minor": 4
}
