{
 "cells": [
  {
   "cell_type": "code",
   "execution_count": 1,
   "metadata": {},
   "outputs": [],
   "source": [
    "from pylab import *"
   ]
  },
  {
   "cell_type": "markdown",
   "metadata": {},
   "source": [
    "SIR epidemics model\n",
    "\\begin{align}\n",
    "\\dot{S}&=-\\beta \\frac{SI}{N}\\\\\n",
    "\\dot{I}&=\\hphantom{-}\\beta \\frac{SI}{N} - \\gamma I\\\\\n",
    "\\dot{R}&=\\hphantom{-}\\gamma I\n",
    "\\end{align}\n",
    "Where \n",
    "$S$: number of susceptible; \n",
    "$I$: number of infected; \n",
    "$R$: number of recovered; \n",
    "$N=S+I+R$; \n",
    "$\\beta$: number of contacts per person per time; \n",
    "$\\gamma^{-1}$: average days to recovery."
   ]
  },
  {
   "cell_type": "markdown",
   "metadata": {},
   "source": [
    "Make non-dimensional by using $\\gamma^{-1}$ as the unit of time, and $N$ as the unit of population. Omitting to mark the non-dimensional variables in a different way as the dimensional ones, one finds:\n",
    "\\begin{align}\n",
    "\\dot{S}&=-R_0 SI\\\\\n",
    "\\dot{I}&=\\hphantom{-}R_0 SI -I\\\\\n",
    "\\dot{R}&=\\hphantom{-}I\n",
    "\\end{align}\n",
    "Where $R_0=\\beta/\\gamma$, and $S,I,R$ are now fractions of the total population, with $S+R+I=1$\n",
    "The obvious fixed point of this system is $P=(1,0,0)$ corresponding to a fully healthy (and fully susceptible) population. It's easy to verify that the Jacobian matrix evaluated at this fixed point has eigenvalues\n",
    "\\begin{equation}\n",
    "\\lambda_1=\\lambda_2=0;\\quad\\lambda_3=R_0-1\n",
    "\\end{equation}\n",
    "Thus upon turning an infinitesimally small number of susceptibles into infected, the infected initially grow (or decays) proportionally to $e^{(R_0-1)t}$"
   ]
  },
  {
   "cell_type": "markdown",
   "metadata": {},
   "source": [
    "This system, however, is highly degenerate. It's immediate to see that any state with $I=0$ is a fixed point. The state $(1-p, 0, p)$ has the eigenvalues:\n",
    "\\begin{equation}\n",
    "\\lambda_1=\\lambda_2=0;\\quad\\lambda_3=R_0(1-p)-1\n",
    "\\end{equation}\n",
    "Fixed points with a sufficietly high fraction $p$ of recovered cases (and a correspondingly diminished fraction $(1-p)$ of susceptibles) are stable. Furthermore, one may observe that the rate of changes of the infected may be written as\n",
    "\\begin{equation}\n",
    "\\dot{I}=(R_0S-1)I\n",
    "\\end{equation}\n",
    "Thus, when during the course of an epidemics it becomes $R_0S<1$ then the epidemics wanes and eventually stops.\n",
    "So, one may define a new number $R_t$ as \n",
    "\\begin{equation}\n",
    "R_t=R_0S(t)\n",
    "\\end{equation}\n",
    "(which is what the media wrongly refer to $R_0$, when they say \"$R_0$ is decreasing\"). In the SIR model, the criterion $R_t<1$ identifies when the worst is over..."
   ]
  },
  {
   "cell_type": "code",
   "execution_count": 2,
   "metadata": {},
   "outputs": [],
   "source": [
    "class SIR:\n",
    "    def __init__(self, R0):\n",
    "        self.R0 = R0\n",
    "    def rhs(self, state):\n",
    "        S, I, R = state\n",
    "        return array([-self.R0*S*I, self.R0*S*I-I, I])"
   ]
  },
  {
   "cell_type": "code",
   "execution_count": 3,
   "metadata": {},
   "outputs": [],
   "source": [
    "def RK2(state, rhs, dt):\n",
    "    midstep = state + rhs(state)*dt/2\n",
    "    newstate = state + rhs(midstep)*dt\n",
    "    return newstate"
   ]
  },
  {
   "cell_type": "code",
   "execution_count": 4,
   "metadata": {},
   "outputs": [],
   "source": [
    "R0 = 4\n",
    "dt = 0.01\n",
    "Nloops = 1000\n",
    "V = SIR(R0)\n",
    "Inicond = array([0.999, 0.001, 0])\n",
    "states = [Inicond]"
   ]
  },
  {
   "cell_type": "code",
   "execution_count": 5,
   "metadata": {},
   "outputs": [],
   "source": [
    "for loop in range(Nloops):\n",
    "    states.append(RK2(states[-1], V.rhs, dt))"
   ]
  },
  {
   "cell_type": "code",
   "execution_count": 6,
   "metadata": {},
   "outputs": [],
   "source": [
    "states = array(states)"
   ]
  },
  {
   "cell_type": "code",
   "execution_count": 7,
   "metadata": {},
   "outputs": [
    {
     "data": {
      "text/plain": [
       "(1001, 3)"
      ]
     },
     "execution_count": 7,
     "metadata": {},
     "output_type": "execute_result"
    }
   ],
   "source": [
    "states.shape"
   ]
  },
  {
   "cell_type": "code",
   "execution_count": 8,
   "metadata": {},
   "outputs": [
    {
     "data": {
      "text/plain": [
       "<matplotlib.legend.Legend at 0x7fd75d107e90>"
      ]
     },
     "execution_count": 8,
     "metadata": {},
     "output_type": "execute_result"
    },
    {
     "data": {
      "image/png": "[encoded data removed]",
      "text/plain": [
       "<Figure size 432x288 with 1 Axes>"
      ]
     },
     "metadata": {
      "needs_background": "light"
     },
     "output_type": "display_data"
    }
   ],
   "source": [
    "plot(arange(Nloops+1)*dt, states[:,0], 'b-')\n",
    "plot(arange(Nloops+1)*dt, states[:,1], 'r-')\n",
    "plot(arange(Nloops+1)*dt, states[:,2], 'g-')\n",
    "legend([\"Susceptible\", \"Infected\", \"Recovered\"])"
   ]
  },
  {
   "cell_type": "markdown",
   "metadata": {},
   "source": [
    "Sanity check: the number $S+I+R$ must remain constant and equal to 1"
   ]
  },
  {
   "cell_type": "code",
   "execution_count": 9,
   "metadata": {},
   "outputs": [
    {
     "data": {
      "text/plain": [
       "[<matplotlib.lines.Line2D at 0x7fd75d0480d0>]"
      ]
     },
     "execution_count": 9,
     "metadata": {},
     "output_type": "execute_result"
    },
    {
     "data": {
      "image/png": "[encoded data removed]",
      "text/plain": [
       "<Figure size 432x288 with 1 Axes>"
      ]
     },
     "metadata": {
      "needs_background": "light"
     },
     "output_type": "display_data"
    }
   ],
   "source": [
    "plot(arange(Nloops+1)*dt, states[:,0]+states[:,1]+states[:,2], 'k-')"
   ]
  },
  {
   "cell_type": "code",
   "execution_count": 10,
   "metadata": {},
   "outputs": [
    {
     "data": {
      "text/plain": [
       "<matplotlib.legend.Legend at 0x7fd75d052290>"
      ]
     },
     "execution_count": 10,
     "metadata": {},
     "output_type": "execute_result"
    },
    {
     "data": {
      "image/png": "[encoded data removed]",
      "text/plain": [
       "<Figure size 432x288 with 1 Axes>"
      ]
     },
     "metadata": {
      "needs_background": "light"
     },
     "output_type": "display_data"
    }
   ],
   "source": [
    "semilogy(arange(Nloops+1)*dt, states[:,1], 'r-')\n",
    "semilogy(arange(Nloops+1)*dt, states[:,2], 'g-')\n",
    "ylim(8.e-4, 1)\n",
    "legend([\"Infected\", \"Recovered\"], loc=\"upper left\")"
   ]
  }
 ],
 "metadata": {
  "kernelspec": {
   "display_name": "Python 3",
   "language": "python",
   "name": "python3"
  },
  "language_info": {
   "codemirror_mode": {
    "name": "ipython",
    "version": 3
   },
   "file_extension": ".py",
   "mimetype": "text/x-python",
   "name": "python",
   "nbconvert_exporter": "python",
   "pygments_lexer": "ipython3",
   "version": "3.7.5"
  }
 },
 "nbformat": 4,
 "nbformat_minor": 2
}
