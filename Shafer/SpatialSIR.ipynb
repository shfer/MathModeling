{
 "cells": [
  {
   "cell_type": "code",
   "execution_count": 1,
   "metadata": {},
   "outputs": [],
   "source": [
    "import numpy as np\n",
    "import matplotlib.pyplot as plt\n"
   ]
  },
  {
   "cell_type": "markdown",
   "metadata": {},
   "source": [
    "Construct a spatial SIR model for an Amazon warehouse of about 50,000 square meters and 1000 employees (https://www.aboutamazon.com/amazon-fulfillment#how-big-are-fulfillment-centers).   They run 24 hours a day, presumably in 3 shifts, so at any given time, there are perhaps about 300 employees.  Of course, really there are all sorts of spatial details to take into account, and a good model would take these details into account.  \n",
    "\n",
    "For our purposes, let's consider motions within dt = 1 min periods. Each individual either moves 5 meters, say, or stays put.  Directions of motion could be on a regular grid, and infection could be possible for nearest neighbors.  But for now, let's assume continuous motion in $\\mathbb{R}^2$, so they move in a random direction.  \n",
    "\n",
    "Each timestep, we test cycle through infectives, and ask how many have susceptibles within a 2 meter radius.  For each susceptible in this radius, there is a chance $a$ of infection "
   ]
  },
  {
   "cell_type": "code",
   "execution_count": null,
   "metadata": {},
   "outputs": [],
   "source": []
  }
 ],
 "metadata": {
  "kernelspec": {
   "display_name": "Python 3",
   "language": "python",
   "name": "python3"
  },
  "language_info": {
   "codemirror_mode": {
    "name": "ipython",
    "version": 3
   },
   "file_extension": ".py",
   "mimetype": "text/x-python",
   "name": "python",
   "nbconvert_exporter": "python",
   "pygments_lexer": "ipython3",
   "version": "3.7.6"
  }
 },
 "nbformat": 4,
 "nbformat_minor": 4
}
